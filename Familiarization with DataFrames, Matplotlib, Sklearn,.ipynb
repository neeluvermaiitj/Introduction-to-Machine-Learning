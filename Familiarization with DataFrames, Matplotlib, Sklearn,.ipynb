{
  "nbformat": 4,
  "nbformat_minor": 0,
  "metadata": {
    "colab": {
      "provenance": []
    },
    "kernelspec": {
      "name": "python3",
      "display_name": "Python 3"
    }
  },
  "cells": [
    {
      "cell_type": "markdown",
      "metadata": {
        "id": "1ldF3-Kuu9dU"
      },
      "source": [
        "**Use Dataframe constructor in Pandas to create your own Dataframe.**"
      ]
    },
    {
      "cell_type": "markdown",
      "metadata": {
        "id": "ng996F3-T7m-"
      },
      "source": [
        "**ML Assignment 2**"
      ]
    },
    {
      "cell_type": "code",
      "metadata": {
        "id": "w36g17rxT5Ss"
      },
      "source": [
        "import pandas as pd\n",
        "import numpy as np"
      ],
      "execution_count": null,
      "outputs": []
    },
    {
      "cell_type": "code",
      "metadata": {
        "id": "NDqiokTba55N"
      },
      "source": [
        "df = {\n",
        "    'batsman' : ['V Sehwag','SR Tendulkar','G Gambhir','V Kohli','MS Dhoni','Yuvraj Singh'],\n",
        "    'runs' : [0, 18,97,35,91, 21],\n",
        "    'balls' : [ 2, 14, 122, 49, 79, 24]\n",
        "}\n",
        "df = pd.DataFrame(df, columns = ['batsman','runs','balls'])"
      ],
      "execution_count": null,
      "outputs": []
    },
    {
      "cell_type": "markdown",
      "metadata": {
        "id": "fR0AdcH3vFxc"
      },
      "source": [
        "**Print a chosen record (row) or a chosen column (data field)**"
      ]
    },
    {
      "cell_type": "code",
      "metadata": {
        "id": "x5ybPFUfcF_W",
        "colab": {
          "base_uri": "https://localhost:8080/",
          "height": 257
        },
        "outputId": "53fd46d7-ee84-48dd-972f-88d9a651e021"
      },
      "source": [
        "print(\"specific row --1st row\")\n",
        "print(df.iloc[1,:])   #PRINT FIRST ROW\n",
        "\n",
        "print(\"specific column --batsman\")\n",
        "print(df.loc[:,'batsman'])   #PRINT BATSMAN COLUMN"
      ],
      "execution_count": null,
      "outputs": [
        {
          "output_type": "stream",
          "text": [
            "specific row --1st row\n",
            "batsman    SR Tendulkar\n",
            "runs                 18\n",
            "balls                14\n",
            "Name: 1, dtype: object\n",
            "specific column --batsman\n",
            "0        V Sehwag\n",
            "1    SR Tendulkar\n",
            "2       G Gambhir\n",
            "3         V Kohli\n",
            "4        MS Dhoni\n",
            "5    Yuvraj Singh\n",
            "Name: batsman, dtype: object\n"
          ],
          "name": "stdout"
        }
      ]
    },
    {
      "cell_type": "markdown",
      "metadata": {
        "id": "MJ9D7IEKvN9K"
      },
      "source": [
        "**Print rows that satisfy a condition on one of the column entries.**"
      ]
    },
    {
      "cell_type": "code",
      "metadata": {
        "id": "iO0648YcdIYi",
        "colab": {
          "base_uri": "https://localhost:8080/",
          "height": 72
        },
        "outputId": "f359da1f-1ecc-4d5e-b6ec-eec5de81ad69"
      },
      "source": [
        "print(df[df['runs']>50]) #PRINTING ROWS WHERE RUNS OF PLAYER IS GREATER THAN 50"
      ],
      "execution_count": null,
      "outputs": [
        {
          "output_type": "stream",
          "text": [
            "     batsman  runs  balls\n",
            "2  G Gambhir    97    122\n",
            "4   MS Dhoni    91     79\n"
          ],
          "name": "stdout"
        }
      ]
    },
    {
      "cell_type": "markdown",
      "metadata": {
        "id": "_2G0CShtvRlM"
      },
      "source": [
        "**Also sort the records based on the number of runs scored by each player.**"
      ]
    },
    {
      "cell_type": "code",
      "metadata": {
        "id": "I-08AsqnpQgq"
      },
      "source": [
        "df_sort=df.sort_values('runs')"
      ],
      "execution_count": null,
      "outputs": []
    },
    {
      "cell_type": "code",
      "metadata": {
        "id": "RV1e-59rpYWq",
        "colab": {
          "base_uri": "https://localhost:8080/",
          "height": 238
        },
        "outputId": "2c7532ac-fc06-4680-a79a-bc72cc82c1fe"
      },
      "source": [
        "df_sort #PRINT SORTED DATAFRAME"
      ],
      "execution_count": null,
      "outputs": [
        {
          "output_type": "execute_result",
          "data": {
            "text/html": [
              "<div>\n",
              "<style scoped>\n",
              "    .dataframe tbody tr th:only-of-type {\n",
              "        vertical-align: middle;\n",
              "    }\n",
              "\n",
              "    .dataframe tbody tr th {\n",
              "        vertical-align: top;\n",
              "    }\n",
              "\n",
              "    .dataframe thead th {\n",
              "        text-align: right;\n",
              "    }\n",
              "</style>\n",
              "<table border=\"1\" class=\"dataframe\">\n",
              "  <thead>\n",
              "    <tr style=\"text-align: right;\">\n",
              "      <th></th>\n",
              "      <th>batsman</th>\n",
              "      <th>runs</th>\n",
              "      <th>balls</th>\n",
              "    </tr>\n",
              "  </thead>\n",
              "  <tbody>\n",
              "    <tr>\n",
              "      <th>0</th>\n",
              "      <td>V Sehwag</td>\n",
              "      <td>0</td>\n",
              "      <td>2</td>\n",
              "    </tr>\n",
              "    <tr>\n",
              "      <th>1</th>\n",
              "      <td>SR Tendulkar</td>\n",
              "      <td>18</td>\n",
              "      <td>14</td>\n",
              "    </tr>\n",
              "    <tr>\n",
              "      <th>5</th>\n",
              "      <td>Yuvraj Singh</td>\n",
              "      <td>21</td>\n",
              "      <td>24</td>\n",
              "    </tr>\n",
              "    <tr>\n",
              "      <th>3</th>\n",
              "      <td>V Kohli</td>\n",
              "      <td>35</td>\n",
              "      <td>49</td>\n",
              "    </tr>\n",
              "    <tr>\n",
              "      <th>4</th>\n",
              "      <td>MS Dhoni</td>\n",
              "      <td>91</td>\n",
              "      <td>79</td>\n",
              "    </tr>\n",
              "    <tr>\n",
              "      <th>2</th>\n",
              "      <td>G Gambhir</td>\n",
              "      <td>97</td>\n",
              "      <td>122</td>\n",
              "    </tr>\n",
              "  </tbody>\n",
              "</table>\n",
              "</div>"
            ],
            "text/plain": [
              "        batsman  runs  balls\n",
              "0      V Sehwag     0      2\n",
              "1  SR Tendulkar    18     14\n",
              "5  Yuvraj Singh    21     24\n",
              "3       V Kohli    35     49\n",
              "4      MS Dhoni    91     79\n",
              "2     G Gambhir    97    122"
            ]
          },
          "metadata": {
            "tags": []
          },
          "execution_count": 6
        }
      ]
    },
    {
      "cell_type": "markdown",
      "metadata": {
        "id": "W3wuTcImvY3D"
      },
      "source": [
        "**Use vectorised operations. For example, you may be required to compute the percentage runs scored by each player, where the percentage is with respect to the total runs scored by the team in an innings**"
      ]
    },
    {
      "cell_type": "code",
      "metadata": {
        "id": "zBSjqLRrpvvl"
      },
      "source": [
        "df['run_percent'] = (df['runs'] /\n",
        "                      df['runs'].sum()) * 100"
      ],
      "execution_count": null,
      "outputs": []
    },
    {
      "cell_type": "code",
      "metadata": {
        "id": "N69rMY0KcOXk",
        "colab": {
          "base_uri": "https://localhost:8080/",
          "height": 238
        },
        "outputId": "b2515744-e6df-44b5-eacc-e53af6a0a186"
      },
      "source": [
        "df #PRINT DATAFRAME WITH RUN PERCENTAGE COLUMN"
      ],
      "execution_count": null,
      "outputs": [
        {
          "output_type": "execute_result",
          "data": {
            "text/html": [
              "<div>\n",
              "<style scoped>\n",
              "    .dataframe tbody tr th:only-of-type {\n",
              "        vertical-align: middle;\n",
              "    }\n",
              "\n",
              "    .dataframe tbody tr th {\n",
              "        vertical-align: top;\n",
              "    }\n",
              "\n",
              "    .dataframe thead th {\n",
              "        text-align: right;\n",
              "    }\n",
              "</style>\n",
              "<table border=\"1\" class=\"dataframe\">\n",
              "  <thead>\n",
              "    <tr style=\"text-align: right;\">\n",
              "      <th></th>\n",
              "      <th>batsman</th>\n",
              "      <th>runs</th>\n",
              "      <th>balls</th>\n",
              "      <th>run_percent</th>\n",
              "    </tr>\n",
              "  </thead>\n",
              "  <tbody>\n",
              "    <tr>\n",
              "      <th>0</th>\n",
              "      <td>V Sehwag</td>\n",
              "      <td>0</td>\n",
              "      <td>2</td>\n",
              "      <td>0.000000</td>\n",
              "    </tr>\n",
              "    <tr>\n",
              "      <th>1</th>\n",
              "      <td>SR Tendulkar</td>\n",
              "      <td>18</td>\n",
              "      <td>14</td>\n",
              "      <td>6.870229</td>\n",
              "    </tr>\n",
              "    <tr>\n",
              "      <th>2</th>\n",
              "      <td>G Gambhir</td>\n",
              "      <td>97</td>\n",
              "      <td>122</td>\n",
              "      <td>37.022901</td>\n",
              "    </tr>\n",
              "    <tr>\n",
              "      <th>3</th>\n",
              "      <td>V Kohli</td>\n",
              "      <td>35</td>\n",
              "      <td>49</td>\n",
              "      <td>13.358779</td>\n",
              "    </tr>\n",
              "    <tr>\n",
              "      <th>4</th>\n",
              "      <td>MS Dhoni</td>\n",
              "      <td>91</td>\n",
              "      <td>79</td>\n",
              "      <td>34.732824</td>\n",
              "    </tr>\n",
              "    <tr>\n",
              "      <th>5</th>\n",
              "      <td>Yuvraj Singh</td>\n",
              "      <td>21</td>\n",
              "      <td>24</td>\n",
              "      <td>8.015267</td>\n",
              "    </tr>\n",
              "  </tbody>\n",
              "</table>\n",
              "</div>"
            ],
            "text/plain": [
              "        batsman  runs  balls  run_percent\n",
              "0      V Sehwag     0      2     0.000000\n",
              "1  SR Tendulkar    18     14     6.870229\n",
              "2     G Gambhir    97    122    37.022901\n",
              "3       V Kohli    35     49    13.358779\n",
              "4      MS Dhoni    91     79    34.732824\n",
              "5  Yuvraj Singh    21     24     8.015267"
            ]
          },
          "metadata": {
            "tags": []
          },
          "execution_count": 8
        }
      ]
    },
    {
      "cell_type": "markdown",
      "metadata": {
        "id": "IS0uIOE1vkQZ"
      },
      "source": [
        "**Add a new column to the Dataframe.**"
      ]
    },
    {
      "cell_type": "code",
      "metadata": {
        "id": "Ib-EM7bDcRho"
      },
      "source": [
        "df['jersey']=[44,10,5,18,7,12]"
      ],
      "execution_count": null,
      "outputs": []
    },
    {
      "cell_type": "code",
      "metadata": {
        "id": "nO6BUQpgd2vS",
        "colab": {
          "base_uri": "https://localhost:8080/",
          "height": 238
        },
        "outputId": "7033f2e4-170c-409c-f85b-53ee9c0d602e"
      },
      "source": [
        "df #PRINT DATAFRAME WITH JERSEY COLUMN"
      ],
      "execution_count": null,
      "outputs": [
        {
          "output_type": "execute_result",
          "data": {
            "text/html": [
              "<div>\n",
              "<style scoped>\n",
              "    .dataframe tbody tr th:only-of-type {\n",
              "        vertical-align: middle;\n",
              "    }\n",
              "\n",
              "    .dataframe tbody tr th {\n",
              "        vertical-align: top;\n",
              "    }\n",
              "\n",
              "    .dataframe thead th {\n",
              "        text-align: right;\n",
              "    }\n",
              "</style>\n",
              "<table border=\"1\" class=\"dataframe\">\n",
              "  <thead>\n",
              "    <tr style=\"text-align: right;\">\n",
              "      <th></th>\n",
              "      <th>batsman</th>\n",
              "      <th>runs</th>\n",
              "      <th>balls</th>\n",
              "      <th>run_percent</th>\n",
              "      <th>jersey</th>\n",
              "    </tr>\n",
              "  </thead>\n",
              "  <tbody>\n",
              "    <tr>\n",
              "      <th>0</th>\n",
              "      <td>V Sehwag</td>\n",
              "      <td>0</td>\n",
              "      <td>2</td>\n",
              "      <td>0.000000</td>\n",
              "      <td>44</td>\n",
              "    </tr>\n",
              "    <tr>\n",
              "      <th>1</th>\n",
              "      <td>SR Tendulkar</td>\n",
              "      <td>18</td>\n",
              "      <td>14</td>\n",
              "      <td>6.870229</td>\n",
              "      <td>10</td>\n",
              "    </tr>\n",
              "    <tr>\n",
              "      <th>2</th>\n",
              "      <td>G Gambhir</td>\n",
              "      <td>97</td>\n",
              "      <td>122</td>\n",
              "      <td>37.022901</td>\n",
              "      <td>5</td>\n",
              "    </tr>\n",
              "    <tr>\n",
              "      <th>3</th>\n",
              "      <td>V Kohli</td>\n",
              "      <td>35</td>\n",
              "      <td>49</td>\n",
              "      <td>13.358779</td>\n",
              "      <td>18</td>\n",
              "    </tr>\n",
              "    <tr>\n",
              "      <th>4</th>\n",
              "      <td>MS Dhoni</td>\n",
              "      <td>91</td>\n",
              "      <td>79</td>\n",
              "      <td>34.732824</td>\n",
              "      <td>7</td>\n",
              "    </tr>\n",
              "    <tr>\n",
              "      <th>5</th>\n",
              "      <td>Yuvraj Singh</td>\n",
              "      <td>21</td>\n",
              "      <td>24</td>\n",
              "      <td>8.015267</td>\n",
              "      <td>12</td>\n",
              "    </tr>\n",
              "  </tbody>\n",
              "</table>\n",
              "</div>"
            ],
            "text/plain": [
              "        batsman  runs  balls  run_percent  jersey\n",
              "0      V Sehwag     0      2     0.000000      44\n",
              "1  SR Tendulkar    18     14     6.870229      10\n",
              "2     G Gambhir    97    122    37.022901       5\n",
              "3       V Kohli    35     49    13.358779      18\n",
              "4      MS Dhoni    91     79    34.732824       7\n",
              "5  Yuvraj Singh    21     24     8.015267      12"
            ]
          },
          "metadata": {
            "tags": []
          },
          "execution_count": 10
        }
      ]
    },
    {
      "cell_type": "markdown",
      "metadata": {
        "id": "_wrTu6Msvn7e"
      },
      "source": [
        "**Export the Dataframe to a file in pickle format and save it as a file.  Read the pickle file back to the program.**"
      ]
    },
    {
      "cell_type": "code",
      "metadata": {
        "id": "l6US8NpTeRxp"
      },
      "source": [
        "df.to_pickle(\"/content/sample_data/cricket.pkl\")"
      ],
      "execution_count": null,
      "outputs": []
    },
    {
      "cell_type": "code",
      "metadata": {
        "id": "mt9tQoXeet7w"
      },
      "source": [
        "df2 = pd.read_pickle(\"/content/sample_data/cricket.pkl\")"
      ],
      "execution_count": null,
      "outputs": []
    },
    {
      "cell_type": "code",
      "metadata": {
        "id": "l_HZkRGCe7DA",
        "colab": {
          "base_uri": "https://localhost:8080/",
          "height": 238
        },
        "outputId": "52daff33-c1d1-4d8c-c07b-ece91983ea19"
      },
      "source": [
        "df2 #PRINT RE-READED NEW DATAFRAME"
      ],
      "execution_count": null,
      "outputs": [
        {
          "output_type": "execute_result",
          "data": {
            "text/html": [
              "<div>\n",
              "<style scoped>\n",
              "    .dataframe tbody tr th:only-of-type {\n",
              "        vertical-align: middle;\n",
              "    }\n",
              "\n",
              "    .dataframe tbody tr th {\n",
              "        vertical-align: top;\n",
              "    }\n",
              "\n",
              "    .dataframe thead th {\n",
              "        text-align: right;\n",
              "    }\n",
              "</style>\n",
              "<table border=\"1\" class=\"dataframe\">\n",
              "  <thead>\n",
              "    <tr style=\"text-align: right;\">\n",
              "      <th></th>\n",
              "      <th>batsman</th>\n",
              "      <th>runs</th>\n",
              "      <th>balls</th>\n",
              "      <th>run_percent</th>\n",
              "      <th>jersey</th>\n",
              "    </tr>\n",
              "  </thead>\n",
              "  <tbody>\n",
              "    <tr>\n",
              "      <th>0</th>\n",
              "      <td>V Sehwag</td>\n",
              "      <td>0</td>\n",
              "      <td>2</td>\n",
              "      <td>0.000000</td>\n",
              "      <td>44</td>\n",
              "    </tr>\n",
              "    <tr>\n",
              "      <th>1</th>\n",
              "      <td>SR Tendulkar</td>\n",
              "      <td>18</td>\n",
              "      <td>14</td>\n",
              "      <td>6.870229</td>\n",
              "      <td>10</td>\n",
              "    </tr>\n",
              "    <tr>\n",
              "      <th>2</th>\n",
              "      <td>G Gambhir</td>\n",
              "      <td>97</td>\n",
              "      <td>122</td>\n",
              "      <td>37.022901</td>\n",
              "      <td>5</td>\n",
              "    </tr>\n",
              "    <tr>\n",
              "      <th>3</th>\n",
              "      <td>V Kohli</td>\n",
              "      <td>35</td>\n",
              "      <td>49</td>\n",
              "      <td>13.358779</td>\n",
              "      <td>18</td>\n",
              "    </tr>\n",
              "    <tr>\n",
              "      <th>4</th>\n",
              "      <td>MS Dhoni</td>\n",
              "      <td>91</td>\n",
              "      <td>79</td>\n",
              "      <td>34.732824</td>\n",
              "      <td>7</td>\n",
              "    </tr>\n",
              "    <tr>\n",
              "      <th>5</th>\n",
              "      <td>Yuvraj Singh</td>\n",
              "      <td>21</td>\n",
              "      <td>24</td>\n",
              "      <td>8.015267</td>\n",
              "      <td>12</td>\n",
              "    </tr>\n",
              "  </tbody>\n",
              "</table>\n",
              "</div>"
            ],
            "text/plain": [
              "        batsman  runs  balls  run_percent  jersey\n",
              "0      V Sehwag     0      2     0.000000      44\n",
              "1  SR Tendulkar    18     14     6.870229      10\n",
              "2     G Gambhir    97    122    37.022901       5\n",
              "3       V Kohli    35     49    13.358779      18\n",
              "4      MS Dhoni    91     79    34.732824       7\n",
              "5  Yuvraj Singh    21     24     8.015267      12"
            ]
          },
          "metadata": {
            "tags": []
          },
          "execution_count": 13
        }
      ]
    },
    {
      "cell_type": "markdown",
      "metadata": {
        "id": "KWr7dtyNvzip"
      },
      "source": [
        "**Use matplotlib library to make a scatter plot of columns that contain numeric\n",
        "data. Provide labels to the axes.**"
      ]
    },
    {
      "cell_type": "code",
      "metadata": {
        "id": "ZDQAmjfWe7qu"
      },
      "source": [
        "import matplotlib.pyplot as plt"
      ],
      "execution_count": null,
      "outputs": []
    },
    {
      "cell_type": "code",
      "metadata": {
        "id": "vPz_CeqAfXMX",
        "colab": {
          "base_uri": "https://localhost:8080/",
          "height": 265
        },
        "outputId": "1376f0a0-4e3e-473c-9cf0-9339a57b9c98"
      },
      "source": [
        "x1 = df.runs\n",
        "x2 = df.balls\n",
        "x3 = df.run_percent\n",
        "x4 = df.jersey\n",
        "y = df.batsman\n",
        "\n",
        "x1_plot = plt.scatter(y,x1)\n",
        "x2_plot = plt.scatter(y,x2)\n",
        "x3_plot = plt.scatter(y,x3)\n",
        "x4_plot = plt.scatter(y,x4)\n",
        "\n",
        "plt.legend((x1_plot, x2_plot, x3_plot, x4_plot),('runs','balls','run_percent','jersey'))\n",
        "\n",
        "#PLOT SCATTER GRAPH\n",
        "plt.show()"
      ],
      "execution_count": null,
      "outputs": [
        {
          "output_type": "display_data",
          "data": {
            "image/png": "[encoded data removed]",
            "text/plain": [
              "<Figure size 432x288 with 1 Axes>"
            ]
          },
          "metadata": {
            "tags": [],
            "needs_background": "light"
          }
        }
      ]
    },
    {
      "cell_type": "markdown",
      "metadata": {
        "id": "mwySHYGuv4lZ"
      },
      "source": [
        "**Implement linear regression to model the dependency between two variables - the predictor x and target y. You can choose any two columns in your data frame as the two variables. Print the coefficients obtained from linear regression and plot the straight line on the scatter plot.  Do not use any inbuilt function for implementing linear regression.  You need to formulate a linear system of equations and solve them using pseudo inverse.  You can compare your result with that produced by the fit() function of LinearRegression model in sklearn**"
      ]
    },
    {
      "cell_type": "code",
      "metadata": {
        "id": "AEoZ_OP-lXmv",
        "colab": {
          "base_uri": "https://localhost:8080/",
          "height": 302
        },
        "outputId": "31ba1711-1d55-44f9-83ba-bccd2970496f"
      },
      "source": [
        "from numpy.linalg import inv #USING NUMPY TO CALCULATE INVERSE\n",
        "from matplotlib import pyplot\n",
        "\n",
        "X1 = np.array(df['runs'])\n",
        "y1 = np.array(df['balls'])\n",
        "data = np.stack((X1,y1),axis=1)\n",
        "\n",
        "X, y = data[:,0], data[:,1]\n",
        "X = X.reshape((len(X), 1))\n",
        "\n",
        "b = inv(X.T.dot(X)).dot(X.T).dot(y)  #USING X^+ = (X^T . x)^-1 . X^T\n",
        "print(\"coefficient: \")\n",
        "print(b) #PRINTING COEFFICIENT\n",
        "\n",
        "y_pred = X.dot(b)\n",
        "\n",
        "#PLOT GRAPH\n",
        "plt.scatter(X, y, color ='b')\n",
        "plt.plot(X, y_pred, color ='red')\n",
        "\n",
        "plt.show()"
      ],
      "execution_count": null,
      "outputs": [
        {
          "output_type": "stream",
          "text": [
            "coefficient: \n",
            "[1.0921748]\n"
          ],
          "name": "stdout"
        },
        {
          "output_type": "display_data",
          "data": {
            "image/png": "[encoded data removed]",
            "text/plain": [
              "<Figure size 432x288 with 1 Axes>"
            ]
          },
          "metadata": {
            "tags": [],
            "needs_background": "light"
          }
        }
      ]
    },
    {
      "cell_type": "markdown",
      "metadata": {
        "id": "D9qsY4wRxxPX"
      },
      "source": [
        "Using LinearRegression in sklearn"
      ]
    },
    {
      "cell_type": "code",
      "metadata": {
        "id": "8ny_gzw0iTuA"
      },
      "source": [
        "from sklearn import preprocessing, svm\n",
        "from sklearn.model_selection import train_test_split\n",
        "from sklearn.linear_model import LinearRegression"
      ],
      "execution_count": null,
      "outputs": []
    },
    {
      "cell_type": "code",
      "metadata": {
        "id": "iYHCmI6IukLu",
        "colab": {
          "base_uri": "https://localhost:8080/",
          "height": 35
        },
        "outputId": "99b558b4-6358-4c50-e660-d606d3f99551"
      },
      "source": [
        "X = np.array(df['runs']).reshape(-1, 1)\n",
        "y = np.array(df['balls']).reshape(-1, 1)\n",
        "\n",
        "regr = LinearRegression()\n",
        "\n",
        "regr.fit(X, y)"
      ],
      "execution_count": null,
      "outputs": [
        {
          "output_type": "execute_result",
          "data": {
            "text/plain": [
              "LinearRegression(copy_X=True, fit_intercept=True, n_jobs=None, normalize=False)"
            ]
          },
          "metadata": {
            "tags": []
          },
          "execution_count": 22
        }
      ]
    },
    {
      "cell_type": "code",
      "metadata": {
        "id": "VhSOSUMluzm-",
        "colab": {
          "base_uri": "https://localhost:8080/",
          "height": 265
        },
        "outputId": "e9028e79-69c5-432c-a5e9-b66cfa987464"
      },
      "source": [
        "y_pred = regr.predict(X)\n",
        "plt.scatter(X, y, color ='b')\n",
        "plt.plot(X, y_pred, color ='red')\n",
        "\n",
        "#PLOT GRAPH\n",
        "plt.show()"
      ],
      "execution_count": null,
      "outputs": [
        {
          "output_type": "display_data",
          "data": {
            "image/png": "[encoded data removed]",
            "text/plain": [
              "<Figure size 432x288 with 1 Axes>"
            ]
          },
          "metadata": {
            "tags": [],
            "needs_background": "light"
          }
        }
      ]
    },
    {
      "cell_type": "markdown",
      "metadata": {
        "id": "VuuDzi0Dqmhx"
      },
      "source": [
        "By Using Sklearn library we see that both the graphs are same and hence we can conclude that sklearn also uses some kind of similar thing to calculate regression."
      ]
    }
  ]
}