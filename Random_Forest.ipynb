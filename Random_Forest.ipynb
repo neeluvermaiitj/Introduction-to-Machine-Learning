{
  "cells": [
    {
      "cell_type": "markdown",
      "metadata": {
        "id": "view-in-github",
        "colab_type": "text"
      },
      "source": [
        "<a href=\"https://colab.research.google.com/github/neeluvermaiitj/Introduction-to-Machine-Learning/blob/main/Random_Forest.ipynb\" target=\"_parent\"><img src=\"https://colab.research.google.com/assets/colab-badge.svg\" alt=\"Open In Colab\"/></a>"
      ]
    },
    {
      "cell_type": "markdown",
      "metadata": {
        "id": "FG6diloIL2vT"
      },
      "source": [
        "## Random Forest"
      ]
    },
    {
      "cell_type": "code",
      "execution_count": null,
      "metadata": {
        "id": "AVMPP5HYL2vY"
      },
      "outputs": [],
      "source": [
        "# Loading the reuired libraries\n",
        "import pandas as pd\n",
        "import os\n",
        "import numpy as np\n",
        "from math import log2\n",
        "from sklearn.model_selection import train_test_split\n",
        "from sklearn.metrics import confusion_matrix, accuracy_score, recall_score, f1_score\n",
        "from sklearn.metrics import classification_report, roc_curve, roc_auc_score, auc\n",
        "from sklearn.tree import DecisionTreeClassifier\n",
        "from sklearn.ensemble import RandomForestClassifier\n",
        "from sklearn.tree.export import export_text\n",
        "from sklearn.preprocessing import label_binarize"
      ]
    },
    {
      "cell_type": "code",
      "execution_count": null,
      "metadata": {
        "id": "PUrv-ksGL2va"
      },
      "outputs": [],
      "source": [
        "# Setting the directory where data resides\n",
        "location_datasets = '../datasets/'"
      ]
    },
    {
      "cell_type": "code",
      "execution_count": null,
      "metadata": {
        "id": "ISfz9SOgL2vb"
      },
      "outputs": [],
      "source": [
        "# Loading the data\n",
        "df_input_1 = pd.read_csv(os.path.join(location_datasets, 'wifi_localization.txt'), \n",
        "                       sep = \"\\t\", header=None, prefix='col_')"
      ]
    },
    {
      "cell_type": "code",
      "execution_count": null,
      "metadata": {
        "id": "c_9ija0tL2vb"
      },
      "outputs": [],
      "source": [
        "# Setting the predictor & target variables\n",
        "X  = df_input_1[df_input_1.columns[:-1]]\n",
        "y  = df_input_1[df_input_1.columns[-1]]"
      ]
    },
    {
      "cell_type": "code",
      "execution_count": null,
      "metadata": {
        "id": "oZbxirpfL2vc"
      },
      "outputs": [],
      "source": [
        "# Creating train and test split for model building and validation\n",
        "X_train, X_test, y_train, y_test = train_test_split(X, y, test_size=0.3, \n",
        "                                                    random_state=42)"
      ]
    },
    {
      "cell_type": "markdown",
      "metadata": {
        "id": "Jn_ve_N9L2vd"
      },
      "source": [
        "### Question 1.1"
      ]
    },
    {
      "cell_type": "code",
      "execution_count": null,
      "metadata": {
        "id": "PmMHFsZTL2vd"
      },
      "outputs": [],
      "source": [
        "def compute_entropy(target):\n",
        "    return sum(target.value_counts(normalize = True).apply(lambda x: -1*x*log2(x)))\n",
        "\n",
        "def get_best_feature_and_cut_off(df, \n",
        "                                 target = 'col_7', \n",
        "                                 columns = ['col_0', 'col_1', 'col_2', 'col_3', 'col_4', 'col_5', 'col_6'], \n",
        "                                 process_so_far = ''):\n",
        "    \n",
        "    \"\"\"\n",
        "    This function gets best feature and cut-off to split the data with an objective of \n",
        "    maximizing information gain \n",
        "    \"\"\"\n",
        "    print('processing subset: {0}'.format(process_so_far))\n",
        "    \n",
        "    if df[target].nunique() != 1:\n",
        "        \n",
        "        entropy_parent = compute_entropy(df[target])\n",
        "        best_ig      = 0 \n",
        "        best_col     = None \n",
        "        best_cut_off = None\n",
        "        best_ent     = None\n",
        "        for col in columns: \n",
        "            for cut_off in df[col].unique(): \n",
        "                temp_var = (df[col] <= cut_off).astype('int')\n",
        "                result = 0\n",
        "                for value in temp_var.unique():\n",
        "                    subset = temp_var == value\n",
        "                    result+=(compute_entropy(df.loc[subset,target])*sum(subset))/df.shape[0]\n",
        "                current_ig = entropy_parent - result\n",
        "                if current_ig > best_ig: \n",
        "                    best_col = col \n",
        "                    best_cut_off = cut_off \n",
        "                    best_ig = current_ig\n",
        "                    best_ent = entropy_parent\n",
        "\n",
        "        print(\"Best column is {0} at {1} cut-off. IG is {2} & entropy is {3}\".format(best_col, \n",
        "                                                                                     best_cut_off, \n",
        "                                                                                     best_ig, \n",
        "                                                                                     best_ent)) \n",
        "        if process_so_far == '':                                                                  \n",
        "            to_return = ('status: not_complete', \n",
        "                         {'best_col': best_col, \n",
        "                        'cut_off' : str(best_cut_off), \n",
        "                        'left_child'  : \"df['{0}'] <={1}\".format(best_col, best_cut_off), \n",
        "                        'right_child' : \"df['{0}'] >{1}\".format(best_col, best_cut_off)}, \n",
        "                         df[target].mode()[0])\n",
        "        else:\n",
        "            to_return = ('status: not_complete', \n",
        "                         {'best_col': best_col, \n",
        "                        'cut_off' : str(best_cut_off), \n",
        "                        'left_child'  :  '(' + process_so_far + ')' + \"& (df['{0}'] <={1})\".format(best_col, best_cut_off), \n",
        "                        'right_child' :  '(' + process_so_far + ')' + \"& (df['{0}'] >{1})\".format(best_col, best_cut_off) },\n",
        "                         df[target].mode()[0])\n",
        "    else: \n",
        "        to_return = ('status: complete', process_so_far, df[target].mode()[0])\n",
        " \n",
        "    return to_return\n",
        "\n",
        "def id3(df = df_input_1, \n",
        "        target='col_7', \n",
        "        columns = ['col_0', 'col_1', 'col_2', 'col_3', 'col_4', 'col_5', 'col_6']):\n",
        "    \n",
        "    \"\"\"\n",
        "    This function implements the ID3 algorithm using the best feature & split mechanism \n",
        "    \"\"\"\n",
        "    \n",
        "    to_process = [] \n",
        "    outcome = get_best_feature_and_cut_off(df)\n",
        "    print(outcome)\n",
        "    to_process.extend([outcome[1]['left_child'], outcome[1]['right_child']])\n",
        "    \n",
        "    i = 0\n",
        "    paths = []\n",
        "    while len(to_process): \n",
        "        #1. subset_data\n",
        "        #2. get best feature & cutoff \n",
        "        #3. Add to process list \n",
        "        output = get_best_feature_and_cut_off(df[eval(to_process[i])], process_so_far=to_process[i])\n",
        "        to_process.remove(to_process[i])\n",
        "        if output[0] != 'status: complete':\n",
        "            to_process.extend([output[1]['left_child'], output[1]['right_child']])\n",
        "            print(output[0])\n",
        "        else:\n",
        "            decision_path = {'path': output[1], 'class': output[2]}\n",
        "            paths.append(decision_path) \n",
        "            \n",
        "        print(\"The length of process list is:\" + str(len(to_process)))\n",
        "        #print(to_process)\n",
        "    print('completed creating the decision tree')\n",
        "    return paths\n",
        "\n",
        "def score(model_obj, df): \n",
        "    df['predicted_class'] = ''\n",
        "    for decison in model_obj:\n",
        "        df.loc[eval(decison['path']),'predicted_class'] = decison['class']\n",
        "    return df"
      ]
    },
    {
      "cell_type": "code",
      "execution_count": null,
      "metadata": {
        "id": "t-aB2e-GL2vf"
      },
      "outputs": [],
      "source": [
        "# Function to pretty print confusion matrix\n",
        "# Credit : Shay Palachy\n",
        "# Source : https://gist.github.com/shaypal5/94c53d765083101efc0240d776a23823\n",
        "\n",
        "import seaborn as sns\n",
        "import matplotlib.pyplot as plt\n",
        "\n",
        "def print_confusion_matrix(confusion_matrix, class_names, figsize = (10,7), fontsize=14):\n",
        "    \"\"\"Prints a confusion matrix, as returned by sklearn.metrics.confusion_matrix, as a heatmap.\n",
        "    \n",
        "    Arguments\n",
        "    ---------\n",
        "    confusion_matrix: numpy.ndarray\n",
        "        The numpy.ndarray object returned from a call to sklearn.metrics.confusion_matrix. \n",
        "        Similarly constructed ndarrays can also be used.\n",
        "    class_names: list\n",
        "        An ordered list of class names, in the order they index the given confusion matrix.\n",
        "    figsize: tuple\n",
        "        A 2-long tuple, the first value determining the horizontal size of the ouputted figure,\n",
        "        the second determining the vertical size. Defaults to (10,7).\n",
        "    fontsize: int\n",
        "        Font size for axes labels. Defaults to 14.\n",
        "        \n",
        "    Returns\n",
        "    -------\n",
        "    matplotlib.figure.Figure\n",
        "        The resulting confusion matrix figure\n",
        "    \"\"\"\n",
        "    df_cm = pd.DataFrame(\n",
        "        confusion_matrix, index=class_names, columns=class_names, \n",
        "    )\n",
        "    fig = plt.figure(figsize=figsize)\n",
        "    try:\n",
        "        heatmap = sns.heatmap(df_cm, annot=True, fmt=\"d\", cmap=\"YlGnBu\")\n",
        "    except ValueError:\n",
        "        raise ValueError(\"Confusion matrix values must be integers.\")\n",
        "    heatmap.yaxis.set_ticklabels(heatmap.yaxis.get_ticklabels(), rotation=0, ha='right', fontsize=fontsize)\n",
        "    heatmap.xaxis.set_ticklabels(heatmap.xaxis.get_ticklabels(), rotation=45, ha='right', fontsize=fontsize)\n",
        "    plt.ylabel('True label')\n",
        "    plt.xlabel('Predicted label')\n",
        "    #return fig"
      ]
    },
    {
      "cell_type": "code",
      "execution_count": null,
      "metadata": {
        "id": "pnltziWmL2vg"
      },
      "outputs": [],
      "source": [
        "def create_multiclass_roc(actual, predicted, classes, split=''):\n",
        "    y_true_binarized = label_binarize(actual, classes=class_names)\n",
        "    y_pred_proba     = predicted\n",
        "\n",
        "    # Compute micro-average ROC curve and ROC area\n",
        "    fpr, tpr, _ = roc_curve(y_true_binarized.ravel(), y_pred_proba.ravel())\n",
        "    roc_auc     = auc(fpr, tpr)\n",
        "\n",
        "    plt.figure()\n",
        "    lw = 2\n",
        "    plt.plot(fpr, tpr, color='darkorange',\n",
        "             lw=lw, label='ROC curve (area = %0.2f)' % roc_auc)\n",
        "    plt.plot([0, 1], [0, 1], color='navy', lw=lw, linestyle='--')\n",
        "    plt.xlim([0.0, 1.0])\n",
        "    plt.ylim([0.0, 1.05])\n",
        "    plt.xlabel('False Positive Rate')\n",
        "    plt.ylabel('True Positive Rate')\n",
        "    plt.title(split + ': Receiver operating characteristic (Micro)')\n",
        "    plt.legend(loc=\"lower right\")\n",
        "    plt.show()"
      ]
    },
    {
      "cell_type": "code",
      "execution_count": null,
      "metadata": {
        "id": "fWyViuMqL2vh",
        "outputId": "e58d0c28-c53c-4140-9cb5-5f21ce452612"
      },
      "outputs": [
        {
          "name": "stdout",
          "output_type": "stream",
          "text": [
            "processing subset: \n",
            "Best column is col_0 at -55 cut-off. IG is 0.9386982912284412 & entropy is 1.9995325080341935\n",
            "('status: not_complete', {'best_col': 'col_0', 'cut_off': '-55', 'left_child': \"df['col_0'] <=-55\", 'right_child': \"df['col_0'] >-55\"}, 3)\n",
            "processing subset: df['col_0'] <=-55\n",
            "Best column is col_4 at -60 cut-off. IG is 0.9536659949876627 & entropy is 1.0873538576556094\n",
            "status: not_complete\n",
            "The length of process list is:3\n",
            "processing subset: df['col_0'] >-55\n",
            "Best column is col_0 at -45 cut-off. IG is 0.7079033474323736 & entropy is 1.0351351555602508\n",
            "status: not_complete\n",
            "The length of process list is:4\n",
            "processing subset: (df['col_0'] <=-55)& (df['col_4'] <=-60)\n",
            "Best column is col_3 at -56 cut-off. IG is 0.14048513469693108 & entropy is 0.21090514733961838\n",
            "status: not_complete\n",
            "The length of process list is:5\n",
            "processing subset: (df['col_0'] <=-55)& (df['col_4'] >-60)\n",
            "Best column is col_4 at -57 cut-off. IG is 0.04065898918848215 & entropy is 0.05256375109324406\n",
            "status: not_complete\n",
            "The length of process list is:6\n",
            "processing subset: (df['col_0'] >-55)& (df['col_0'] <=-45)\n",
            "Best column is col_4 at -71 cut-off. IG is 0.16717095126676934 & entropy is 0.531012233964427\n",
            "status: not_complete\n",
            "The length of process list is:7\n",
            "processing subset: (df['col_0'] >-55)& (df['col_0'] >-45)\n",
            "Best column is col_3 at -52 cut-off. IG is 0.046257880045886504 & entropy is 0.07681824409048703\n",
            "status: not_complete\n",
            "The length of process list is:8\n",
            "processing subset: ((df['col_0'] <=-55)& (df['col_4'] <=-60))& (df['col_3'] <=-56)\n",
            "Best column is col_2 at -51 cut-off. IG is 0.03537780998383697 & entropy is 0.07184469497938906\n",
            "status: not_complete\n",
            "The length of process list is:9\n",
            "processing subset: ((df['col_0'] <=-55)& (df['col_4'] <=-60))& (df['col_3'] >-56)\n",
            "The length of process list is:8\n",
            "processing subset: ((df['col_0'] <=-55)& (df['col_4'] >-60))& (df['col_4'] <=-57)\n",
            "Best column is col_3 at -60 cut-off. IG is 1.0 & entropy is 1.0\n",
            "status: not_complete\n",
            "The length of process list is:9\n",
            "processing subset: ((df['col_0'] <=-55)& (df['col_4'] >-60))& (df['col_4'] >-57)\n",
            "The length of process list is:8\n",
            "processing subset: ((df['col_0'] >-55)& (df['col_0'] <=-45))& (df['col_4'] <=-71)\n",
            "Best column is col_3 at -50 cut-off. IG is 0.4335941172605445 & entropy is 0.8453509366224364\n",
            "status: not_complete\n",
            "The length of process list is:9\n",
            "processing subset: ((df['col_0'] >-55)& (df['col_0'] <=-45))& (df['col_4'] >-71)\n",
            "Best column is col_4 at -54 cut-off. IG is 0.06968964684198983 & entropy is 0.3195799496070791\n",
            "status: not_complete\n",
            "The length of process list is:10\n",
            "processing subset: ((df['col_0'] >-55)& (df['col_0'] >-45))& (df['col_3'] <=-52)\n",
            "The length of process list is:9\n",
            "processing subset: ((df['col_0'] >-55)& (df['col_0'] >-45))& (df['col_3'] >-52)\n",
            "Best column is col_6 at -86 cut-off. IG is 0.022062677060139108 & entropy is 0.030753173912389797\n",
            "status: not_complete\n",
            "The length of process list is:10\n",
            "processing subset: (((df['col_0'] <=-55)& (df['col_4'] <=-60))& (df['col_3'] <=-56))& (df['col_2'] <=-51)\n",
            "Best column is col_2 at -55 cut-off. IG is 0.012276040748778576 & entropy is 0.028754095353637182\n",
            "status: not_complete\n",
            "The length of process list is:11\n",
            "processing subset: (((df['col_0'] <=-55)& (df['col_4'] <=-60))& (df['col_3'] <=-56))& (df['col_2'] >-51)\n",
            "Best column is col_0 at -63 cut-off. IG is 0.9182958340544896 & entropy is 0.9182958340544896\n",
            "status: not_complete\n",
            "The length of process list is:12\n",
            "processing subset: (((df['col_0'] <=-55)& (df['col_4'] >-60))& (df['col_4'] <=-57))& (df['col_3'] <=-60)\n",
            "The length of process list is:11\n",
            "processing subset: (((df['col_0'] <=-55)& (df['col_4'] >-60))& (df['col_4'] <=-57))& (df['col_3'] >-60)\n",
            "The length of process list is:10\n",
            "processing subset: (((df['col_0'] >-55)& (df['col_0'] <=-45))& (df['col_4'] <=-71))& (df['col_3'] <=-50)\n",
            "The length of process list is:9\n",
            "processing subset: (((df['col_0'] >-55)& (df['col_0'] <=-45))& (df['col_4'] <=-71))& (df['col_3'] >-50)\n",
            "Best column is col_1 at -59 cut-off. IG is 0.24782881802602497 & entropy is 0.5032583347756457\n",
            "status: not_complete\n",
            "The length of process list is:10\n",
            "processing subset: (((df['col_0'] >-55)& (df['col_0'] <=-45))& (df['col_4'] >-71))& (df['col_4'] <=-54)\n",
            "Best column is col_2 at -54 cut-off. IG is 0.06358853312274967 & entropy is 0.251996119923222\n",
            "status: not_complete\n",
            "The length of process list is:11\n",
            "processing subset: (((df['col_0'] >-55)& (df['col_0'] <=-45))& (df['col_4'] >-71))& (df['col_4'] >-54)\n",
            "The length of process list is:10\n",
            "processing subset: (((df['col_0'] >-55)& (df['col_0'] >-45))& (df['col_3'] >-52))& (df['col_6'] <=-86)\n",
            "Best column is col_0 at -44 cut-off. IG is 0.9182958340544896 & entropy is 0.9182958340544896\n",
            "status: not_complete\n",
            "The length of process list is:11\n",
            "processing subset: (((df['col_0'] >-55)& (df['col_0'] >-45))& (df['col_3'] >-52))& (df['col_6'] >-86)\n",
            "The length of process list is:10\n",
            "processing subset: ((((df['col_0'] <=-55)& (df['col_4'] <=-60))& (df['col_3'] <=-56))& (df['col_2'] <=-51))& (df['col_2'] <=-55)\n",
            "The length of process list is:9\n",
            "processing subset: ((((df['col_0'] <=-55)& (df['col_4'] <=-60))& (df['col_3'] <=-56))& (df['col_2'] <=-51))& (df['col_2'] >-55)\n",
            "Best column is col_5 at -88 cut-off. IG is 0.19220909102455275 & entropy is 0.2974722489192896\n",
            "status: not_complete\n",
            "The length of process list is:10\n",
            "processing subset: ((((df['col_0'] <=-55)& (df['col_4'] <=-60))& (df['col_3'] <=-56))& (df['col_2'] >-51))& (df['col_0'] <=-63)\n",
            "The length of process list is:9\n",
            "processing subset: ((((df['col_0'] <=-55)& (df['col_4'] <=-60))& (df['col_3'] <=-56))& (df['col_2'] >-51))& (df['col_0'] >-63)\n",
            "The length of process list is:8\n",
            "processing subset: ((((df['col_0'] >-55)& (df['col_0'] <=-45))& (df['col_4'] <=-71))& (df['col_3'] >-50))& (df['col_1'] <=-59)\n",
            "Best column is col_3 at -45 cut-off. IG is 0.5216406363433185 & entropy is 0.9852281360342515\n",
            "status: not_complete\n",
            "The length of process list is:9\n",
            "processing subset: ((((df['col_0'] >-55)& (df['col_0'] <=-45))& (df['col_4'] <=-71))& (df['col_3'] >-50))& (df['col_1'] >-59)\n",
            "The length of process list is:8\n",
            "processing subset: ((((df['col_0'] >-55)& (df['col_0'] <=-45))& (df['col_4'] >-71))& (df['col_4'] <=-54))& (df['col_2'] <=-54)\n",
            "Best column is col_6 at -78 cut-off. IG is 0.08256369174434885 & entropy is 0.5159469300074474\n",
            "status: not_complete\n",
            "The length of process list is:9\n",
            "processing subset: ((((df['col_0'] >-55)& (df['col_0'] <=-45))& (df['col_4'] >-71))& (df['col_4'] <=-54))& (df['col_2'] >-54)\n",
            "The length of process list is:8\n",
            "processing subset: ((((df['col_0'] >-55)& (df['col_0'] >-45))& (df['col_3'] >-52))& (df['col_6'] <=-86))& (df['col_0'] <=-44)\n",
            "The length of process list is:7\n",
            "processing subset: ((((df['col_0'] >-55)& (df['col_0'] >-45))& (df['col_3'] >-52))& (df['col_6'] <=-86))& (df['col_0'] >-44)\n",
            "The length of process list is:6\n",
            "processing subset: (((((df['col_0'] <=-55)& (df['col_4'] <=-60))& (df['col_3'] <=-56))& (df['col_2'] <=-51))& (df['col_2'] >-55))& (df['col_5'] <=-88)\n",
            "Best column is col_0 at -64 cut-off. IG is 1.0 & entropy is 1.0\n",
            "status: not_complete\n",
            "The length of process list is:7\n",
            "processing subset: (((((df['col_0'] <=-55)& (df['col_4'] <=-60))& (df['col_3'] <=-56))& (df['col_2'] <=-51))& (df['col_2'] >-55))& (df['col_5'] >-88)\n",
            "The length of process list is:6\n",
            "processing subset: (((((df['col_0'] >-55)& (df['col_0'] <=-45))& (df['col_4'] <=-71))& (df['col_3'] >-50))& (df['col_1'] <=-59))& (df['col_3'] <=-45)\n",
            "Best column is col_0 at -48 cut-off. IG is 0.8112781244591328 & entropy is 0.8112781244591328\n",
            "status: not_complete\n",
            "The length of process list is:7\n",
            "processing subset: (((((df['col_0'] >-55)& (df['col_0'] <=-45))& (df['col_4'] <=-71))& (df['col_3'] >-50))& (df['col_1'] <=-59))& (df['col_3'] >-45)\n",
            "The length of process list is:6\n",
            "processing subset: (((((df['col_0'] >-55)& (df['col_0'] <=-45))& (df['col_4'] >-71))& (df['col_4'] <=-54))& (df['col_2'] <=-54))& (df['col_6'] <=-78)\n",
            "Best column is col_4 at -65 cut-off. IG is 0.10093463011315768 & entropy is 0.3394860002142789\n",
            "status: not_complete\n",
            "The length of process list is:7\n",
            "processing subset: (((((df['col_0'] >-55)& (df['col_0'] <=-45))& (df['col_4'] >-71))& (df['col_4'] <=-54))& (df['col_2'] <=-54))& (df['col_6'] >-78)\n",
            "Best column is col_1 at -55 cut-off. IG is 0.49252708671426604 & entropy is 0.9819407868640977\n",
            "status: not_complete\n",
            "The length of process list is:8\n",
            "processing subset: ((((((df['col_0'] <=-55)& (df['col_4'] <=-60))& (df['col_3'] <=-56))& (df['col_2'] <=-51))& (df['col_2'] >-55))& (df['col_5'] <=-88))& (df['col_0'] <=-64)\n",
            "The length of process list is:7\n",
            "processing subset: ((((((df['col_0'] <=-55)& (df['col_4'] <=-60))& (df['col_3'] <=-56))& (df['col_2'] <=-51))& (df['col_2'] >-55))& (df['col_5'] <=-88))& (df['col_0'] >-64)\n",
            "The length of process list is:6\n",
            "processing subset: ((((((df['col_0'] >-55)& (df['col_0'] <=-45))& (df['col_4'] <=-71))& (df['col_3'] >-50))& (df['col_1'] <=-59))& (df['col_3'] <=-45))& (df['col_0'] <=-48)\n",
            "The length of process list is:5\n",
            "processing subset: ((((((df['col_0'] >-55)& (df['col_0'] <=-45))& (df['col_4'] <=-71))& (df['col_3'] >-50))& (df['col_1'] <=-59))& (df['col_3'] <=-45))& (df['col_0'] >-48)\n",
            "The length of process list is:4\n",
            "processing subset: ((((((df['col_0'] >-55)& (df['col_0'] <=-45))& (df['col_4'] >-71))& (df['col_4'] <=-54))& (df['col_2'] <=-54))& (df['col_6'] <=-78))& (df['col_4'] <=-65)\n"
          ]
        },
        {
          "name": "stdout",
          "output_type": "stream",
          "text": [
            "Best column is col_0 at -50 cut-off. IG is 0.169911534864998 & entropy is 0.6789538995185758\n",
            "status: not_complete\n",
            "The length of process list is:5\n",
            "processing subset: ((((((df['col_0'] >-55)& (df['col_0'] <=-45))& (df['col_4'] >-71))& (df['col_4'] <=-54))& (df['col_2'] <=-54))& (df['col_6'] <=-78))& (df['col_4'] >-65)\n",
            "The length of process list is:4\n",
            "processing subset: ((((((df['col_0'] >-55)& (df['col_0'] <=-45))& (df['col_4'] >-71))& (df['col_4'] <=-54))& (df['col_2'] <=-54))& (df['col_6'] >-78))& (df['col_1'] <=-55)\n",
            "Best column is col_3 at -48 cut-off. IG is 0.299896391167891 & entropy is 0.8453509366224364\n",
            "status: not_complete\n",
            "The length of process list is:5\n",
            "processing subset: ((((((df['col_0'] >-55)& (df['col_0'] <=-45))& (df['col_4'] >-71))& (df['col_4'] <=-54))& (df['col_2'] <=-54))& (df['col_6'] >-78))& (df['col_1'] >-55)\n",
            "The length of process list is:4\n",
            "processing subset: (((((((df['col_0'] >-55)& (df['col_0'] <=-45))& (df['col_4'] >-71))& (df['col_4'] <=-54))& (df['col_2'] <=-54))& (df['col_6'] <=-78))& (df['col_4'] <=-65))& (df['col_0'] <=-50)\n",
            "The length of process list is:3\n",
            "processing subset: (((((((df['col_0'] >-55)& (df['col_0'] <=-45))& (df['col_4'] >-71))& (df['col_4'] <=-54))& (df['col_2'] <=-54))& (df['col_6'] <=-78))& (df['col_4'] <=-65))& (df['col_0'] >-50)\n",
            "Best column is col_5 at -79 cut-off. IG is 0.329794845472994 & entropy is 0.9023932827949788\n",
            "status: not_complete\n",
            "The length of process list is:4\n",
            "processing subset: (((((((df['col_0'] >-55)& (df['col_0'] <=-45))& (df['col_4'] >-71))& (df['col_4'] <=-54))& (df['col_2'] <=-54))& (df['col_6'] >-78))& (df['col_1'] <=-55))& (df['col_3'] <=-48)\n",
            "Best column is col_0 at -48 cut-off. IG is 0.4591479170272448 & entropy is 1.0\n",
            "status: not_complete\n",
            "The length of process list is:5\n",
            "processing subset: (((((((df['col_0'] >-55)& (df['col_0'] <=-45))& (df['col_4'] >-71))& (df['col_4'] <=-54))& (df['col_2'] <=-54))& (df['col_6'] >-78))& (df['col_1'] <=-55))& (df['col_3'] >-48)\n",
            "The length of process list is:4\n",
            "processing subset: ((((((((df['col_0'] >-55)& (df['col_0'] <=-45))& (df['col_4'] >-71))& (df['col_4'] <=-54))& (df['col_2'] <=-54))& (df['col_6'] <=-78))& (df['col_4'] <=-65))& (df['col_0'] >-50))& (df['col_5'] <=-79)\n",
            "Best column is col_5 at -86 cut-off. IG is 0.37138397431437964 & entropy is 0.5435644431995964\n",
            "status: not_complete\n",
            "The length of process list is:5\n",
            "processing subset: ((((((((df['col_0'] >-55)& (df['col_0'] <=-45))& (df['col_4'] >-71))& (df['col_4'] <=-54))& (df['col_2'] <=-54))& (df['col_6'] <=-78))& (df['col_4'] <=-65))& (df['col_0'] >-50))& (df['col_5'] >-79)\n",
            "Best column is col_6 at -89 cut-off. IG is 0.6500224216483541 & entropy is 0.6500224216483541\n",
            "status: not_complete\n",
            "The length of process list is:6\n",
            "processing subset: ((((((((df['col_0'] >-55)& (df['col_0'] <=-45))& (df['col_4'] >-71))& (df['col_4'] <=-54))& (df['col_2'] <=-54))& (df['col_6'] >-78))& (df['col_1'] <=-55))& (df['col_3'] <=-48))& (df['col_0'] <=-48)\n",
            "Best column is col_1 at -62 cut-off. IG is 0.8112781244591328 & entropy is 0.8112781244591328\n",
            "status: not_complete\n",
            "The length of process list is:7\n",
            "processing subset: ((((((((df['col_0'] >-55)& (df['col_0'] <=-45))& (df['col_4'] >-71))& (df['col_4'] <=-54))& (df['col_2'] <=-54))& (df['col_6'] >-78))& (df['col_1'] <=-55))& (df['col_3'] <=-48))& (df['col_0'] >-48)\n",
            "The length of process list is:6\n",
            "processing subset: (((((((((df['col_0'] >-55)& (df['col_0'] <=-45))& (df['col_4'] >-71))& (df['col_4'] <=-54))& (df['col_2'] <=-54))& (df['col_6'] <=-78))& (df['col_4'] <=-65))& (df['col_0'] >-50))& (df['col_5'] <=-79))& (df['col_5'] <=-86)\n",
            "Best column is col_0 at -49 cut-off. IG is 0.9182958340544896 & entropy is 0.9182958340544896\n",
            "status: not_complete\n",
            "The length of process list is:7\n",
            "processing subset: (((((((((df['col_0'] >-55)& (df['col_0'] <=-45))& (df['col_4'] >-71))& (df['col_4'] <=-54))& (df['col_2'] <=-54))& (df['col_6'] <=-78))& (df['col_4'] <=-65))& (df['col_0'] >-50))& (df['col_5'] <=-79))& (df['col_5'] >-86)\n",
            "The length of process list is:6\n",
            "processing subset: (((((((((df['col_0'] >-55)& (df['col_0'] <=-45))& (df['col_4'] >-71))& (df['col_4'] <=-54))& (df['col_2'] <=-54))& (df['col_6'] <=-78))& (df['col_4'] <=-65))& (df['col_0'] >-50))& (df['col_5'] >-79))& (df['col_6'] <=-89)\n",
            "The length of process list is:5\n",
            "processing subset: (((((((((df['col_0'] >-55)& (df['col_0'] <=-45))& (df['col_4'] >-71))& (df['col_4'] <=-54))& (df['col_2'] <=-54))& (df['col_6'] <=-78))& (df['col_4'] <=-65))& (df['col_0'] >-50))& (df['col_5'] >-79))& (df['col_6'] >-89)\n",
            "The length of process list is:4\n",
            "processing subset: (((((((((df['col_0'] >-55)& (df['col_0'] <=-45))& (df['col_4'] >-71))& (df['col_4'] <=-54))& (df['col_2'] <=-54))& (df['col_6'] >-78))& (df['col_1'] <=-55))& (df['col_3'] <=-48))& (df['col_0'] <=-48))& (df['col_1'] <=-62)\n",
            "The length of process list is:3\n",
            "processing subset: (((((((((df['col_0'] >-55)& (df['col_0'] <=-45))& (df['col_4'] >-71))& (df['col_4'] <=-54))& (df['col_2'] <=-54))& (df['col_6'] >-78))& (df['col_1'] <=-55))& (df['col_3'] <=-48))& (df['col_0'] <=-48))& (df['col_1'] >-62)\n",
            "The length of process list is:2\n",
            "processing subset: ((((((((((df['col_0'] >-55)& (df['col_0'] <=-45))& (df['col_4'] >-71))& (df['col_4'] <=-54))& (df['col_2'] <=-54))& (df['col_6'] <=-78))& (df['col_4'] <=-65))& (df['col_0'] >-50))& (df['col_5'] <=-79))& (df['col_5'] <=-86))& (df['col_0'] <=-49)\n",
            "The length of process list is:1\n",
            "processing subset: ((((((((((df['col_0'] >-55)& (df['col_0'] <=-45))& (df['col_4'] >-71))& (df['col_4'] <=-54))& (df['col_2'] <=-54))& (df['col_6'] <=-78))& (df['col_4'] <=-65))& (df['col_0'] >-50))& (df['col_5'] <=-79))& (df['col_5'] <=-86))& (df['col_0'] >-49)\n",
            "The length of process list is:0\n",
            "completed creating the decision tree\n"
          ]
        }
      ],
      "source": [
        "d_tree = id3(df=pd.concat([X_train, y_train], axis = 1))"
      ]
    },
    {
      "cell_type": "code",
      "execution_count": null,
      "metadata": {
        "id": "-2wBnNUQL2vi"
      },
      "outputs": [],
      "source": [
        "df_prediction = score(model_obj=d_tree, df=pd.concat([X_test,y_test], axis = 1))"
      ]
    },
    {
      "cell_type": "code",
      "execution_count": null,
      "metadata": {
        "id": "r0zEYgCxL2vi"
      },
      "outputs": [],
      "source": [
        "y_true = df_prediction['col_7']\n",
        "y_pred = df_prediction['predicted_class']\n",
        "cf = confusion_matrix(y_true = y_true, y_pred = y_pred)\n",
        "#pd.crosstab(df_prediction['col_7'], df_prediction['predicted_class']).reset_index()"
      ]
    },
    {
      "cell_type": "code",
      "execution_count": null,
      "metadata": {
        "id": "kOH2EONWL2vj",
        "outputId": "7a079f96-d824-49c0-d84e-4608fa50d9ee"
      },
      "outputs": [
        {
          "data": {
            "image/png": "[encoded data removed]",
            "text/plain": [
              "<Figure size 720x504 with 2 Axes>"
            ]
          },
          "metadata": {
            "needs_background": "light"
          },
          "output_type": "display_data"
        }
      ],
      "source": [
        "print_confusion_matrix(cf, class_names=[1,2,3,4])"
      ]
    },
    {
      "cell_type": "code",
      "execution_count": null,
      "metadata": {
        "id": "MFvaaXTAL2vj",
        "outputId": "b7e68e74-a025-44a4-88e9-2e3f7774aafd"
      },
      "outputs": [
        {
          "name": "stdout",
          "output_type": "stream",
          "text": [
            "Accuracy: 0.9733333333333334\n",
            "F1-score (micro): 0.9733333333333334\n",
            "F1-score (macro): 0.972189193693302\n",
            "F1-score for each class : [0.99047619 0.95833333 0.94623656 0.99371069]\n"
          ]
        }
      ],
      "source": [
        "print(\"Accuracy: {0}\".format(accuracy_score(y_true=y_true, y_pred=y_pred)))\n",
        "print(\"F1-score (micro): {0}\".format(f1_score(y_true=y_true, y_pred=y_pred, average=\"micro\")))\n",
        "print(\"F1-score (macro): {0}\".format(f1_score(y_true=y_true, y_pred=y_pred, average=\"macro\")))\n",
        "print(\"F1-score for each class : {0}\".format(f1_score(y_true=y_true, y_pred=y_pred, average=None)))"
      ]
    },
    {
      "cell_type": "markdown",
      "metadata": {
        "id": "R_v6R6E5L2vk"
      },
      "source": [
        "#### Analysis of model metric \n",
        "F1 score is useful when there is class imbalance and we are interested in reduction of false postives & false negatives. Just going by the class balance accuracy is a good enough measure in this scenario"
      ]
    },
    {
      "cell_type": "markdown",
      "metadata": {
        "id": "dFXjYZyJL2vk"
      },
      "source": [
        "### Question 1.2"
      ]
    },
    {
      "cell_type": "code",
      "execution_count": null,
      "metadata": {
        "id": "77M7SxJmL2vk"
      },
      "outputs": [],
      "source": [
        "from sklearn import tree\n",
        "clf = tree.DecisionTreeClassifier(criterion='gini', random_state=42)\n",
        "clf = clf.fit(X_train, y_train)"
      ]
    },
    {
      "cell_type": "code",
      "execution_count": null,
      "metadata": {
        "id": "wGzBYeebL2vl"
      },
      "outputs": [],
      "source": [
        "y_true = y_test\n",
        "y_pred = clf.predict(X_test)"
      ]
    },
    {
      "cell_type": "code",
      "execution_count": null,
      "metadata": {
        "id": "cWLbf0otL2vl",
        "outputId": "3b8959a0-5517-45e0-df48-a96113ce4cc6"
      },
      "outputs": [
        {
          "data": {
            "image/png": "[encoded data removed]",
            "text/plain": [
              "<Figure size 720x504 with 2 Axes>"
            ]
          },
          "metadata": {
            "needs_background": "light"
          },
          "output_type": "display_data"
        }
      ],
      "source": [
        "cf = confusion_matrix(y_true = y_true, y_pred = y_pred)\n",
        "print_confusion_matrix(cf, class_names=clf.classes_)"
      ]
    },
    {
      "cell_type": "code",
      "execution_count": null,
      "metadata": {
        "id": "Cjadn6sTL2vl",
        "outputId": "5aae266d-eac9-40a5-db61-a1f66f202d99"
      },
      "outputs": [
        {
          "name": "stdout",
          "output_type": "stream",
          "text": [
            "Accuracy: 0.975\n",
            "F1-score (micro): 0.975\n",
            "F1-score (macro): 0.9738731070251743\n",
            "F1-score for each class : [0.99047619 0.95744681 0.95070423 0.9968652 ]\n"
          ]
        }
      ],
      "source": [
        "print(\"Accuracy: {0}\".format(accuracy_score(y_true=y_true, y_pred=y_pred)))\n",
        "print(\"F1-score (micro): {0}\".format(f1_score(y_true=y_true, y_pred=y_pred, average=\"micro\")))\n",
        "print(\"F1-score (macro): {0}\".format(f1_score(y_true=y_true, y_pred=y_pred, average=\"macro\")))\n",
        "print(\"F1-score for each class : {0}\".format(f1_score(y_true=y_true, y_pred=y_pred, average=None)))"
      ]
    },
    {
      "cell_type": "markdown",
      "metadata": {
        "id": "2el8QtvfL2vm"
      },
      "source": [
        "### Question 1.3"
      ]
    },
    {
      "cell_type": "code",
      "execution_count": null,
      "metadata": {
        "id": "S5tZwT_EL2vm"
      },
      "outputs": [],
      "source": [
        "# we will compare the predictions of both the above models \n",
        "df_outcomes = pd.DataFrame({'y_true':y_true, 'ID3':df_prediction['predicted_class'], 'gini':clf.predict(X_test)})"
      ]
    },
    {
      "cell_type": "code",
      "execution_count": null,
      "metadata": {
        "id": "FVqefl-JL2vm",
        "outputId": "9e57ea07-3325-4128-cf3a-0b4d6e86808b"
      },
      "outputs": [
        {
          "name": "stdout",
          "output_type": "stream",
          "text": [
            "9\n"
          ]
        }
      ],
      "source": [
        "# Note that there are 9 miss-matches between the both the prediction\n",
        "len_mm = X_test[df_outcomes['ID3'] != df_outcomes['gini']].shape[0]\n",
        "df_analysis = df_outcomes[df_outcomes['ID3'] != df_outcomes['gini']]\n",
        "print(len_mm)"
      ]
    },
    {
      "cell_type": "markdown",
      "metadata": {
        "id": "hEmoxPoaL2vm"
      },
      "source": [
        "##### Comparison of both the measures (Given the prediction from both are not the same)"
      ]
    },
    {
      "cell_type": "code",
      "execution_count": null,
      "metadata": {
        "id": "pPco7nhqL2vn",
        "outputId": "63fd26ef-136e-4153-bcd3-1a197019b988"
      },
      "outputs": [
        {
          "name": "stdout",
          "output_type": "stream",
          "text": [
            "Correctness of gini: 55.55555555555556\n",
            "Correctness of ID3: 44.44444444444444\n"
          ]
        }
      ],
      "source": [
        "print(\"Correctness of gini: {0}\".format((1-sum(df_analysis['y_true'] != df_analysis['gini'])/len_mm)*100))\n",
        "print(\"Correctness of ID3: {0}\".format((1-sum(df_analysis['y_true'] != df_analysis['ID3'])/len_mm)*100))"
      ]
    },
    {
      "cell_type": "markdown",
      "metadata": {
        "id": "vWzUQ5PzL2vn"
      },
      "source": [
        "Overall Gini is slightly better than ID3 when used as impurity metric (see the correctness when prediction in both cases are not the same). ID3 is making mistake in correctly classifying class '3' majority times while gini is incorrectly classifying class '4' out of missmatched predictions between both"
      ]
    },
    {
      "cell_type": "markdown",
      "metadata": {
        "id": "jAXiFv0sL2vn"
      },
      "source": [
        "### Question 2"
      ]
    },
    {
      "cell_type": "code",
      "execution_count": null,
      "metadata": {
        "id": "l6cgAScCL2vn"
      },
      "outputs": [],
      "source": [
        "# Loading the data\n",
        "df_input_2 = pd.read_csv(os.path.join(location_datasets, 'iris.data'), \n",
        "                         names = [\"sepal length in cm\",\n",
        "                                  \"sepal width in cm\",\n",
        "                                  \"petal length in cm\",\n",
        "                                  \"petal width in cm\",\n",
        "                                  \"class\"])"
      ]
    },
    {
      "cell_type": "markdown",
      "metadata": {
        "id": "k_R5NxP3L2vo"
      },
      "source": [
        "\n",
        "Note that the out 12 miss match in prediction by trees by both impurity measure GINI is correct in 58% while ID3 is correct 42% of the times. In absolute terms, gini was correct 2 times in predicting class 2, 4 (combined) when ID3 was incorrect. "
      ]
    },
    {
      "cell_type": "code",
      "execution_count": null,
      "metadata": {
        "id": "nKxT1hXGL2vo"
      },
      "outputs": [],
      "source": [
        "# Setting the predictor & target variables\n",
        "X  = df_input_2[df_input_2.columns[:-1]]\n",
        "y  = df_input_2[df_input_2.columns[-1]]"
      ]
    },
    {
      "cell_type": "code",
      "execution_count": null,
      "metadata": {
        "id": "OFTN7UC2L2vo"
      },
      "outputs": [],
      "source": [
        "# Creating train and test split for model building and validation\n",
        "X_train, X_test, y_train, y_test = train_test_split(X, y, test_size=0.4, \n",
        "                                                    random_state=42)"
      ]
    },
    {
      "cell_type": "code",
      "execution_count": null,
      "metadata": {
        "id": "kDfAhhnjL2vo",
        "outputId": "c84de793-4b66-415a-a04e-971611ec2003"
      },
      "outputs": [
        {
          "data": {
            "text/plain": [
              "RandomForestClassifier(bootstrap=True, class_weight=None, criterion='gini',\n",
              "                       max_depth=None, max_features='auto', max_leaf_nodes=None,\n",
              "                       min_impurity_decrease=0.0, min_impurity_split=None,\n",
              "                       min_samples_leaf=1, min_samples_split=2,\n",
              "                       min_weight_fraction_leaf=0.0, n_estimators=100,\n",
              "                       n_jobs=None, oob_score=False, random_state=42, verbose=0,\n",
              "                       warm_start=False)"
            ]
          },
          "execution_count": 24,
          "metadata": {},
          "output_type": "execute_result"
        }
      ],
      "source": [
        "clf_dt  = DecisionTreeClassifier(criterion='gini', random_state=42) # we have noticed that gini was slightly better \n",
        "clf_rdf = RandomForestClassifier(n_estimators=100, random_state=42)\n",
        "\n",
        "#Fitting both decision tree and RDF model \n",
        "clf_dt.fit(X_train, y_train)\n",
        "clf_rdf.fit(X_train, y_train)"
      ]
    },
    {
      "cell_type": "markdown",
      "metadata": {
        "id": "rHSEA-iSL2vp"
      },
      "source": [
        "#### 2.1\n",
        "##### Decision Tree Classifier "
      ]
    },
    {
      "cell_type": "code",
      "execution_count": null,
      "metadata": {
        "id": "lheoQLgjL2vp",
        "outputId": "f66d700e-3878-4528-c3d3-cab959102cd9"
      },
      "outputs": [
        {
          "name": "stdout",
          "output_type": "stream",
          "text": [
            "Training accuracy: 1.0\n",
            "Testing accuracy: 0.9666666666666667\n"
          ]
        }
      ],
      "source": [
        "class_names = clf_dt.classes_\n",
        "print(\"Training accuracy: {0}\".format(accuracy_score(y_true= y_train, y_pred=clf_dt.predict(X_train))))\n",
        "print(\"Testing accuracy: {0}\".format(accuracy_score(y_true= y_test, y_pred=clf_dt.predict(X_test))))"
      ]
    },
    {
      "cell_type": "code",
      "execution_count": null,
      "metadata": {
        "id": "UNITLh9vL2vq",
        "outputId": "7ee0dc13-2ee9-4bec-9617-68cdec1f273d"
      },
      "outputs": [
        {
          "data": {
            "image/png": "[encoded data removed]",
            "text/plain": [
              "<Figure size 720x504 with 2 Axes>"
            ]
          },
          "metadata": {
            "needs_background": "light"
          },
          "output_type": "display_data"
        }
      ],
      "source": [
        "cf = confusion_matrix(y_true=y_train, y_pred=clf_dt.predict(X_train), labels = class_names)\n",
        "print_confusion_matrix(cf, class_names=class_names)"
      ]
    },
    {
      "cell_type": "code",
      "execution_count": null,
      "metadata": {
        "id": "OsIyu9YcL2vr",
        "outputId": "a3332b4f-4d0e-4bab-dbae-66792bf70900"
      },
      "outputs": [
        {
          "data": {
            "image/png": "[encoded data removed]",
            "text/plain": [
              "<Figure size 720x504 with 2 Axes>"
            ]
          },
          "metadata": {
            "needs_background": "light"
          },
          "output_type": "display_data"
        }
      ],
      "source": [
        "cf = confusion_matrix(y_true=y_test, y_pred=clf_dt.predict(X_test), labels = class_names)\n",
        "print_confusion_matrix(cf, class_names=class_names)"
      ]
    },
    {
      "cell_type": "code",
      "execution_count": null,
      "metadata": {
        "id": "bS9AmwjgL2vs",
        "outputId": "c4d989d2-9e6c-4bfc-c372-319f3e9ec603"
      },
      "outputs": [
        {
          "name": "stdout",
          "output_type": "stream",
          "text": [
            "                 precision    recall  f1-score   support\n",
            "\n",
            "    Iris-setosa       1.00      1.00      1.00        27\n",
            "Iris-versicolor       1.00      1.00      1.00        31\n",
            " Iris-virginica       1.00      1.00      1.00        32\n",
            "\n",
            "       accuracy                           1.00        90\n",
            "      macro avg       1.00      1.00      1.00        90\n",
            "   weighted avg       1.00      1.00      1.00        90\n",
            "\n"
          ]
        }
      ],
      "source": [
        "print(classification_report(y_true=y_train, y_pred=clf_dt.predict(X_train), labels=class_names))\n",
        "# Note - Sensitivity is same as recall"
      ]
    },
    {
      "cell_type": "code",
      "execution_count": null,
      "metadata": {
        "id": "PrfZHZWJL2vt",
        "outputId": "eee79540-8558-43ad-e2ea-6e7b857dd873"
      },
      "outputs": [
        {
          "name": "stdout",
          "output_type": "stream",
          "text": [
            "                 precision    recall  f1-score   support\n",
            "\n",
            "    Iris-setosa       1.00      1.00      1.00        23\n",
            "Iris-versicolor       0.95      0.95      0.95        19\n",
            " Iris-virginica       0.94      0.94      0.94        18\n",
            "\n",
            "       accuracy                           0.97        60\n",
            "      macro avg       0.96      0.96      0.96        60\n",
            "   weighted avg       0.97      0.97      0.97        60\n",
            "\n"
          ]
        }
      ],
      "source": [
        "print(classification_report(y_true=y_test, y_pred=clf_dt.predict(X_test), labels=class_names))\n",
        "# Note - Sensitivity is same as recall"
      ]
    },
    {
      "cell_type": "code",
      "execution_count": null,
      "metadata": {
        "id": "qU5MzMXTL2vt"
      },
      "outputs": [],
      "source": [
        "# Train: Recall of negative class is specificity so by the confusion matrix above \n",
        "# Iris-versicolor = 1\n",
        "# Iris-virginica  = 1\n",
        "# Iris-setosa     = 1"
      ]
    },
    {
      "cell_type": "code",
      "execution_count": null,
      "metadata": {
        "id": "uBl_Eo1bL2vu"
      },
      "outputs": [],
      "source": [
        "# Test: Recall of negative class is specificity so by the confusion matrix above \n",
        "# Iris-versicolor = 40/41\n",
        "# Iris-virginica = 41/42\n",
        "# Iris-setosa = 35/37"
      ]
    },
    {
      "cell_type": "code",
      "execution_count": null,
      "metadata": {
        "id": "zcsw9C-IL2vu",
        "outputId": "dbbbff4d-03e9-4f46-e939-f596d767aaba"
      },
      "outputs": [
        {
          "data": {
            "image/png": "[encoded data removed]",
            "text/plain": [
              "<Figure size 432x288 with 1 Axes>"
            ]
          },
          "metadata": {
            "needs_background": "light"
          },
          "output_type": "display_data"
        },
        {
          "data": {
            "image/png": "[encoded data removed]",
            "text/plain": [
              "<Figure size 432x288 with 1 Axes>"
            ]
          },
          "metadata": {
            "needs_background": "light"
          },
          "output_type": "display_data"
        }
      ],
      "source": [
        "create_multiclass_roc(actual=y_train, predicted = clf_dt.predict_proba(X_train), classes=class_names, split='Train')\n",
        "create_multiclass_roc(actual=y_test, predicted = clf_dt.predict_proba(X_test), classes=class_names, split='Test')"
      ]
    },
    {
      "cell_type": "markdown",
      "metadata": {
        "id": "LLS-sIqTL2vu"
      },
      "source": [
        "##### Random Forest Classifier"
      ]
    },
    {
      "cell_type": "code",
      "execution_count": null,
      "metadata": {
        "id": "RsYuL0PZL2vu",
        "outputId": "0e3cf976-5207-430e-da74-94e2ef101437"
      },
      "outputs": [
        {
          "name": "stdout",
          "output_type": "stream",
          "text": [
            "Train Accuracy: 1.0\n",
            "Test Accuracy: 0.9833333333333333\n"
          ]
        }
      ],
      "source": [
        "class_names = clf_rdf.classes_\n",
        "\n",
        "y_pred = clf_rdf.predict(X_train)\n",
        "y_true = y_train\n",
        "print(\"Train Accuracy: {0}\".format(accuracy_score(y_true= y_true, y_pred=y_pred)))\n",
        "\n",
        "y_pred = clf_rdf.predict(X_test)\n",
        "y_true = y_test\n",
        "print(\"Test Accuracy: {0}\".format(accuracy_score(y_true= y_true, y_pred=y_pred)))"
      ]
    },
    {
      "cell_type": "code",
      "execution_count": null,
      "metadata": {
        "id": "aOCJAco8L2vv",
        "outputId": "1ebe4215-752d-4648-8bc6-13adca5b3a61"
      },
      "outputs": [
        {
          "data": {
            "image/png": "[encoded data removed]",
            "text/plain": [
              "<Figure size 720x504 with 2 Axes>"
            ]
          },
          "metadata": {
            "needs_background": "light"
          },
          "output_type": "display_data"
        }
      ],
      "source": [
        "# Training : Confusion matrix\n",
        "cf = confusion_matrix(y_true=y_train, y_pred=clf_rdf.predict(X_train), labels = class_names)\n",
        "print_confusion_matrix(cf, class_names=class_names)"
      ]
    },
    {
      "cell_type": "code",
      "execution_count": null,
      "metadata": {
        "id": "AJT_CcN2L2vv",
        "outputId": "39e6f795-2f62-42d4-d941-cd324f8f53c7"
      },
      "outputs": [
        {
          "data": {
            "image/png": "[encoded data removed]",
            "text/plain": [
              "<Figure size 720x504 with 2 Axes>"
            ]
          },
          "metadata": {
            "needs_background": "light"
          },
          "output_type": "display_data"
        }
      ],
      "source": [
        "# Testing : Confusion matrix\n",
        "cf = confusion_matrix(y_true=y_test, y_pred=clf_rdf.predict(X_test), labels = class_names)\n",
        "print_confusion_matrix(cf, class_names=class_names)"
      ]
    },
    {
      "cell_type": "code",
      "execution_count": null,
      "metadata": {
        "id": "qVZE_Ox5L2vv",
        "outputId": "26ae8ce3-ae09-41e5-a1e6-1f188c929ac8"
      },
      "outputs": [
        {
          "name": "stdout",
          "output_type": "stream",
          "text": [
            "                 precision    recall  f1-score   support\n",
            "\n",
            "    Iris-setosa       1.00      1.00      1.00        27\n",
            "Iris-versicolor       1.00      1.00      1.00        31\n",
            " Iris-virginica       1.00      1.00      1.00        32\n",
            "\n",
            "       accuracy                           1.00        90\n",
            "      macro avg       1.00      1.00      1.00        90\n",
            "   weighted avg       1.00      1.00      1.00        90\n",
            "\n"
          ]
        }
      ],
      "source": [
        "# Training classficiation report \n",
        "print(classification_report(y_true=y_train, y_pred=clf_rdf.predict(X_train), labels=class_names))"
      ]
    },
    {
      "cell_type": "code",
      "execution_count": null,
      "metadata": {
        "id": "NU4dDEaRL2vw",
        "outputId": "ada86fa8-be21-4edb-f9dd-2ed7ae343e8c"
      },
      "outputs": [
        {
          "name": "stdout",
          "output_type": "stream",
          "text": [
            "                 precision    recall  f1-score   support\n",
            "\n",
            "    Iris-setosa       1.00      1.00      1.00        23\n",
            "Iris-versicolor       0.95      1.00      0.97        19\n",
            " Iris-virginica       1.00      0.94      0.97        18\n",
            "\n",
            "       accuracy                           0.98        60\n",
            "      macro avg       0.98      0.98      0.98        60\n",
            "   weighted avg       0.98      0.98      0.98        60\n",
            "\n"
          ]
        }
      ],
      "source": [
        "print(classification_report(y_true=y_test, y_pred=clf_rdf.predict(X_test), labels=class_names))\n",
        "# Note - Sensitivity is same as recall"
      ]
    },
    {
      "cell_type": "code",
      "execution_count": null,
      "metadata": {
        "id": "Cx42IjgGL2vw"
      },
      "outputs": [],
      "source": [
        "# Train: Recall of negative class is specificity so by the confusion matrix above \n",
        "# Iris-versicolor = 1\n",
        "# Iris-virginica  = 1\n",
        "# Iris-setosa     = 1"
      ]
    },
    {
      "cell_type": "code",
      "execution_count": null,
      "metadata": {
        "id": "g47duKCtL2vw"
      },
      "outputs": [],
      "source": [
        "# Test: Recall of negative class is specificity so by the confusion matrix above \n",
        "# Iris-versicolor = 40/41\n",
        "# Iris-virginica = 42/42\n",
        "# Iris-setosa = 36/37"
      ]
    },
    {
      "cell_type": "code",
      "execution_count": null,
      "metadata": {
        "id": "GWx53bhfL2vx",
        "outputId": "a2ebd283-d34b-4683-b60e-7f085e63db81"
      },
      "outputs": [
        {
          "data": {
            "image/png": "[encoded data removed]",
            "text/plain": [
              "<Figure size 432x288 with 1 Axes>"
            ]
          },
          "metadata": {
            "needs_background": "light"
          },
          "output_type": "display_data"
        },
        {
          "data": {
            "image/png": "[encoded data removed]",
            "text/plain": [
              "<Figure size 432x288 with 1 Axes>"
            ]
          },
          "metadata": {
            "needs_background": "light"
          },
          "output_type": "display_data"
        }
      ],
      "source": [
        "create_multiclass_roc(actual=y_train, predicted = clf_rdf.predict_proba(X_train), classes=class_names, split='Train')\n",
        "create_multiclass_roc(actual=y_test, predicted = clf_rdf.predict_proba(X_test), classes=class_names, split='Test')"
      ]
    },
    {
      "cell_type": "code",
      "execution_count": null,
      "metadata": {
        "id": "f3idcRKFL2vx",
        "outputId": "87ec4dda-9fd9-40a6-f0f4-c2c3fb9ef31c"
      },
      "outputs": [
        {
          "name": "stdout",
          "output_type": "stream",
          "text": [
            "|--- petal length in cm <= 2.45\n",
            "|   |--- class: Iris-setosa\n",
            "|--- petal length in cm >  2.45\n",
            "|   |--- petal width in cm <= 1.75\n",
            "|   |   |--- petal length in cm <= 5.35\n",
            "|   |   |   |--- sepal length in cm <= 4.95\n",
            "|   |   |   |   |--- sepal width in cm <= 2.45\n",
            "|   |   |   |   |   |--- class: Iris-versicolor\n",
            "|   |   |   |   |--- sepal width in cm >  2.45\n",
            "|   |   |   |   |   |--- class: Iris-virginica\n",
            "|   |   |   |--- sepal length in cm >  4.95\n",
            "|   |   |   |   |--- sepal width in cm <= 2.25\n",
            "|   |   |   |   |   |--- petal width in cm <= 1.25\n",
            "|   |   |   |   |   |   |--- class: Iris-versicolor\n",
            "|   |   |   |   |   |--- petal width in cm >  1.25\n",
            "|   |   |   |   |   |   |--- class: Iris-virginica\n",
            "|   |   |   |   |--- sepal width in cm >  2.25\n",
            "|   |   |   |   |   |--- class: Iris-versicolor\n",
            "|   |   |--- petal length in cm >  5.35\n",
            "|   |   |   |--- class: Iris-virginica\n",
            "|   |--- petal width in cm >  1.75\n",
            "|   |   |--- petal length in cm <= 4.85\n",
            "|   |   |   |--- sepal width in cm <= 3.10\n",
            "|   |   |   |   |--- class: Iris-virginica\n",
            "|   |   |   |--- sepal width in cm >  3.10\n",
            "|   |   |   |   |--- class: Iris-versicolor\n",
            "|   |   |--- petal length in cm >  4.85\n",
            "|   |   |   |--- class: Iris-virginica\n",
            "\n"
          ]
        }
      ],
      "source": [
        "r = export_text(clf_dt, feature_names=list(df_input_2.columns.values[:-1]))\n",
        "print(r)"
      ]
    },
    {
      "cell_type": "markdown",
      "metadata": {
        "id": "A7fT5jpRL2vx"
      },
      "source": [
        "#### 2.2"
      ]
    },
    {
      "cell_type": "markdown",
      "metadata": {
        "id": "Mj5VKJ4gL2vy"
      },
      "source": [
        "There is no need of hyper parameter tunning as with dataset we have, we are able to perfectly classify using Random forest model. We should use Random Forest model as it gives an AUC of 1 for both training and test data. ROC curve and AUC have for both the algorithms have been shown above"
      ]
    }
  ],
  "metadata": {
    "kernelspec": {
      "display_name": "Python 3",
      "language": "python",
      "name": "python3"
    },
    "language_info": {
      "codemirror_mode": {
        "name": "ipython",
        "version": 3
      },
      "file_extension": ".py",
      "mimetype": "text/x-python",
      "name": "python",
      "nbconvert_exporter": "python",
      "pygments_lexer": "ipython3",
      "version": "3.7.4"
    },
    "colab": {
      "name": "Random Forest.ipynb",
      "provenance": [],
      "include_colab_link": true
    }
  },
  "nbformat": 4,
  "nbformat_minor": 0
}