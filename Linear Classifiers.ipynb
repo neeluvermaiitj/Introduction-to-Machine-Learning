{
  "nbformat": 4,
  "nbformat_minor": 0,
  "metadata": {
    "colab": {
      "provenance": []
    },
    "kernelspec": {
      "name": "python3",
      "display_name": "Python 3"
    }
  },
  "cells": [
    {
      "cell_type": "code",
      "metadata": {
        "id": "fFUVUHpDvcgH"
      },
      "source": [
        "import pandas as pd\n",
        "import numpy as np\n",
        "from sklearn import metrics\n",
        "from sklearn.model_selection import train_test_split\n",
        "from sklearn.linear_model import LogisticRegression\n",
        "from sklearn.datasets import make_blobs"
      ],
      "execution_count": null,
      "outputs": []
    },
    {
      "cell_type": "code",
      "metadata": {
        "id": "M4_PFaDMwC8q",
        "outputId": "1c3fb4cd-16a8-4fc4-8234-ae0b431438b1",
        "colab": {
          "base_uri": "https://localhost:8080/",
          "height": 459
        }
      },
      "source": [
        "#Importing Data Set\n",
        "df = pd.read_csv(\"/content/drive/My Drive/Colab Notebooks/trial.csv\")\n",
        "df.head()\n",
        "#Drop Column Target\n",
        "X = df.drop(['Target'],axis = 'columns')\n",
        "y = df.Target\n",
        "#Spliting Test and Training Set\n",
        "x_train,x_test,y_train,y_test = train_test_split(X,y,test_size = 0.30)\n",
        "print(X)\n",
        "print(y)"
      ],
      "execution_count": null,
      "outputs": [
        {
          "output_type": "stream",
          "text": [
            "     Sector_score  LOCATION_ID  SCORE_A  SCORE_B  TOTAL\n",
            "0            3.89           23        6        2   6.68\n",
            "1            3.89            6        2        2   4.83\n",
            "2            3.89            6        2        2   0.74\n",
            "3            3.89            6        2        6  10.80\n",
            "4            3.89            6        2        2   0.08\n",
            "..            ...          ...      ...      ...    ...\n",
            "144          2.37            2        6        2   3.11\n",
            "145          2.37            2        6        4   9.06\n",
            "146          2.37            2        2        2   1.10\n",
            "147          2.37           16        2        2   1.23\n",
            "148          2.37            5        4        2   1.42\n",
            "\n",
            "[149 rows x 5 columns]\n",
            "0      1\n",
            "1      0\n",
            "2      0\n",
            "3      1\n",
            "4      0\n",
            "      ..\n",
            "144    1\n",
            "145    1\n",
            "146    1\n",
            "147    0\n",
            "148    1\n",
            "Name: Target, Length: 149, dtype: int64\n"
          ],
          "name": "stdout"
        }
      ]
    },
    {
      "cell_type": "code",
      "metadata": {
        "id": "gAhjtvN2Y21F",
        "outputId": "3b1cba9f-b146-44b2-cc61-66ab819a246e",
        "colab": {
          "base_uri": "https://localhost:8080/",
          "height": 34
        }
      },
      "source": [
        "#Logistic Regression\n",
        "logistic_regression = LogisticRegression()\n",
        "logistic_regression.fit(x_train,y_train)\n",
        "\n",
        "#Testing Logistic Model\n",
        "y_pred = logistic_regression.predict([[3.89,6,2,2,0.08]])\n",
        "print(y_pred)"
      ],
      "execution_count": null,
      "outputs": [
        {
          "output_type": "stream",
          "text": [
            "[0]\n"
          ],
          "name": "stdout"
        }
      ]
    },
    {
      "cell_type": "code",
      "metadata": {
        "id": "UkkeEIM2ZN-U",
        "outputId": "96a16d27-f4a7-48f8-947c-42c03fec14c9",
        "colab": {
          "base_uri": "https://localhost:8080/",
          "height": 34
        }
      },
      "source": [
        "#Logistic Regression Score\n",
        "logistic_regression.score(x_test, y_test)"
      ],
      "execution_count": null,
      "outputs": [
        {
          "output_type": "execute_result",
          "data": {
            "text/plain": [
              "0.9333333333333333"
            ]
          },
          "metadata": {
            "tags": []
          },
          "execution_count": 128
        }
      ]
    },
    {
      "cell_type": "code",
      "metadata": {
        "id": "U6TbBh-6t-Vu",
        "outputId": "53c9dcff-4abd-4ed9-c69a-d7595d44c89d",
        "colab": {
          "base_uri": "https://localhost:8080/",
          "height": 119
        }
      },
      "source": [
        "#Linear SVM C=1\n",
        "from sklearn.svm import SVC\n",
        "linear_svm = SVC(kernel = 'linear')\n",
        "linear_svm.fit(x_train,y_train)\n",
        "\n",
        "#Testing Model\n",
        "y_out = linear_svm.predict([[3.89,6,2,2,0.08]])\n",
        "print(\"Predicted Output:\")\n",
        "print(y_out)\n",
        "\n",
        "#Checking Accuracy\n",
        "print(\"Accuracy Score C=1\")\n",
        "sc1 = linear_svm.score(x_test,y_test)\n",
        "print(sc1)\n",
        "\n",
        "#Regularization(c=10)\n",
        "linear_svm_c = SVC(kernel = 'linear',C=10,gamma=100)\n",
        "linear_svm_c.fit(x_train,y_train)\n",
        "print(\"Accuracy Score C=10\")\n",
        "sc2 = linear_svm_c.score(x_test,y_test)\n",
        "print(sc2)"
      ],
      "execution_count": null,
      "outputs": [
        {
          "output_type": "stream",
          "text": [
            "Predicted Output:\n",
            "[0]\n",
            "Accuracy Score C=1\n",
            "0.9333333333333333\n",
            "Accuracy Score C=10\n",
            "0.9333333333333333\n"
          ],
          "name": "stdout"
        }
      ]
    },
    {
      "cell_type": "code",
      "metadata": {
        "id": "xaHedT01xxff",
        "outputId": "e82ac5ac-15fd-4dca-d42c-338c9d3811b8",
        "colab": {
          "base_uri": "https://localhost:8080/",
          "height": 119
        }
      },
      "source": [
        "#Polynomial Kernel\n",
        "poly_svm = SVC(kernel = 'poly')\n",
        "poly_svm.fit(x_train,y_train)\n",
        "\n",
        "#Testing Model\n",
        "y_out = poly_svm.predict([[3.89,6,2,2,0.08]])\n",
        "print(\"Predicted Output:\")\n",
        "print(y_out)\n",
        "print(\"Accuracy Score C=1\")\n",
        "print(poly_svm.score(x_test,y_test))\n",
        "\n",
        "#For C=10\n",
        "poly_svm_c = SVC(kernel = 'poly',C=10,gamma=5)\n",
        "poly_svm_c.fit(x_train,y_train)\n",
        "print(\"Accuracy Score C=1\")\n",
        "print(poly_svm_c.score(x_test,y_test))\n"
      ],
      "execution_count": null,
      "outputs": [
        {
          "output_type": "stream",
          "text": [
            "Predicted Output:\n",
            "[1]\n",
            "Accuracy Score C=1\n",
            "0.7777777777777778\n",
            "Accuracy Score C=1\n",
            "0.8888888888888888\n"
          ],
          "name": "stdout"
        }
      ]
    },
    {
      "cell_type": "code",
      "metadata": {
        "id": "BdpnHFk_zCWK",
        "outputId": "625cf6df-ee56-445a-c07a-29dd8b4d43b1",
        "colab": {
          "base_uri": "https://localhost:8080/",
          "height": 85
        }
      },
      "source": [
        "#Gaussian Kernel\n",
        "model = SVC(kernel='rbf')\n",
        "model.fit(x_train,y_train)\n",
        "print(\"Accuracy Score C=1\")\n",
        "print(model.score(x_test,y_test))\n",
        "\n",
        "#For C=10\n",
        "model_c = SVC(C=10,gamma=10)\n",
        "model_c.fit(x_train,y_train)\n",
        "print(\"Accuracy Score C=10\")\n",
        "print(model.score(x_test,y_test))"
      ],
      "execution_count": null,
      "outputs": [
        {
          "output_type": "stream",
          "text": [
            "Accuracy Score C=1\n",
            "0.7777777777777778\n",
            "Accuracy Score C=10\n",
            "0.7777777777777778\n"
          ],
          "name": "stdout"
        }
      ]
    },
    {
      "cell_type": "code",
      "metadata": {
        "id": "UWFsRipO5sZ2",
        "outputId": "001588d6-1fd2-4641-b10b-56cc3033864d",
        "colab": {
          "base_uri": "https://localhost:8080/",
          "height": 68
        }
      },
      "source": [
        "#Logistic Regression Using SGD\n",
        "from sklearn.linear_model import SGDClassifier\n",
        "clf = SGDClassifier(loss=\"log\")\n",
        "clf.fit(x_train,y_train)\n",
        "\n",
        "#Testing Model\n",
        "pred = clf.predict([[3.89,6,2,2,0.08]])\n",
        "print(\"predicted Output:\")\n",
        "print(pred)\n",
        "\n",
        "#Testing Model Accuracy\n",
        "clf.score(x_test,y_test)"
      ],
      "execution_count": null,
      "outputs": [
        {
          "output_type": "stream",
          "text": [
            "predicted Output:\n",
            "[0]\n"
          ],
          "name": "stdout"
        },
        {
          "output_type": "execute_result",
          "data": {
            "text/plain": [
              "0.8222222222222222"
            ]
          },
          "metadata": {
            "tags": []
          },
          "execution_count": 147
        }
      ]
    },
    {
      "cell_type": "code",
      "metadata": {
        "id": "YE0e8PAgsJR1",
        "outputId": "680eadae-dfbc-40a9-efa6-a9fe50774061",
        "colab": {
          "base_uri": "https://localhost:8080/",
          "height": 85
        }
      },
      "source": [
        "#Implementation of Halfspace Classifier\n",
        "\n",
        "#Prediction Function\n",
        "def predict(row, weights,b):\n",
        "\tactivation = b\n",
        "\tfor i in range(len(row)):\n",
        "\t\tactivation += weights[i] * row[i]\n",
        "\treturn 1.0 if activation >= 0.0 else 0.0\n",
        "\n",
        "def step_function(x):\n",
        "    if x<0:\n",
        "        return 0\n",
        "    else:\n",
        "        return 1\n",
        "\n",
        "# parameter initialization\n",
        "w = np.random.rand(5)\n",
        "errors = []\n",
        "eta = .5\n",
        "epoch = 30\n",
        "b = 0\n",
        "\n",
        "xx_train = np.array(x_train)\n",
        "yy_train = np.array(y_train)\n",
        "\n",
        "#Training Algo\n",
        "for i in range(epoch):\n",
        "    for i,x_val  in enumerate(xx_train):\n",
        "      # u = np.dot(x , w) +b\n",
        "        u = sum(x_val*w) + b\n",
        "\n",
        "        error = yy_train[i] - step_function(u)\n",
        "        errors.append(error)\n",
        "\n",
        "        for index, value in enumerate(x):\n",
        "            #print(w[index])\n",
        "            w[index] += eta * error * value\n",
        "            b += eta*error\n",
        "#Testing Model\n",
        "pred = predict([3.89,6,2,2,0.08],w,b)\n",
        "print(pred)\n",
        "\n",
        "#Model Accuracy Check\n",
        "total = 0\n",
        "acc = 0\n",
        "accuracy_score = 0\n",
        "xx_test = np.array(x_test)\n",
        "yy_test = np.array(y_test)\n",
        "\n",
        "for ind , xt_val  in enumerate(xx_test):\n",
        "  ypred = predict(xt_val,w,b)\n",
        "  total += 1\n",
        "  if ypred == yy_test[ind]:\n",
        "    acc += 1\n",
        "  accuracy_score = (acc/total)* 100\n",
        "\n",
        "print(acc)\n",
        "print(total)\n",
        "print(accuracy_score)\n",
        "\n"
      ],
      "execution_count": null,
      "outputs": [
        {
          "output_type": "stream",
          "text": [
            "1.0\n",
            "36\n",
            "45\n",
            "80.0\n"
          ],
          "name": "stdout"
        }
      ]
    }
  ]
}